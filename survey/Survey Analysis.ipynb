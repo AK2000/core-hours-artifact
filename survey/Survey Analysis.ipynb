{
 "cells": [
  {
   "cell_type": "code",
   "execution_count": null,
   "id": "c4fce9dd",
   "metadata": {},
   "outputs": [],
   "source": [
    "import pandas as pd\n",
    "import matplotlib.pyplot as plt\n",
    "import seaborn as sns\n",
    "import numpy as np"
   ]
  },
  {
   "cell_type": "code",
   "execution_count": null,
   "id": "e7f0c19a",
   "metadata": {},
   "outputs": [],
   "source": [
    "plt.style.use('seaborn-v0_8-paper')\n",
    "pt = 1./72.27\n",
    "fig_width = 241 * pt\n",
    "aspect_ratio = (1 + 8 ** 0.5) / 2\n",
    "plt.rcParams[\"figure.figsize\"] = (fig_width, fig_width/aspect_ratio)\n",
    "plt.rcParams[\"savefig.bbox\"] = \"tight\"\n",
    "sns.set_theme(style='whitegrid', context='paper', rc={'axes.facecolor': 'white', 'figure.figsize': (fig_width, fig_width/aspect_ratio)})\n",
    "\n",
    "colors = [\"#00a1de\", \"#009b3a\", \"#c60c30\", \"#f9461c\", \"#532A92\"]"
   ]
  },
  {
   "cell_type": "code",
   "execution_count": null,
   "id": "b9170602",
   "metadata": {},
   "outputs": [],
   "source": [
    "plt.style.use('seaborn-v0_8-paper')\n",
    "pt = 1./72.27\n",
    "fig_width = 241 * pt\n",
    "aspect_ratio = (1 + 5 ** 0.5) / 2\n",
    "plt.rcParams[\"figure.figsize\"] = (fig_width, fig_width/aspect_ratio)\n",
    "plt.rcParams[\"savefig.bbox\"] = \"tight\"\n",
    "sns.set_theme(style='whitegrid', context='talk', rc={'savefig.transparent': True, 'figure.figsize': (fig_width, fig_width/aspect_ratio)})\n",
    "\n",
    "colors = [\"#00a1de\", \"#009b3a\", \"#c60c30\", \"#f9461c\", \"#532A92\"]"
   ]
  },
  {
   "cell_type": "code",
   "execution_count": null,
   "id": "91b0a685",
   "metadata": {},
   "outputs": [],
   "source": [
    "df = pd.read_csv(\"Energy Awareness in HPC_September 16, 2024_12.48.csv\")\n",
    "questions = df.iloc[0, :]\n",
    "df = df.drop([0,1], axis=0)\n",
    "questions"
   ]
  },
  {
   "cell_type": "code",
   "execution_count": null,
   "id": "91a7d9fc",
   "metadata": {},
   "outputs": [],
   "source": [
    "# Filter out data recorded before we distributed the survey - this will internal responses\n",
    "df[\"RecordedDate\"] = pd.to_datetime(df[\"RecordedDate\"])\n",
    "df = df[df[\"RecordedDate\"] >= pd.to_datetime(\"2024-8-15\")]\n",
    "df"
   ]
  },
  {
   "cell_type": "code",
   "execution_count": null,
   "id": "80c0f838",
   "metadata": {},
   "outputs": [],
   "source": [
    "df[\"Progress\"] = df[\"Progress\"].astype(float)\n",
    "sns.ecdfplot(data=df, y=\"Progress\", stat=\"count\")"
   ]
  },
  {
   "cell_type": "code",
   "execution_count": null,
   "id": "b687f5b0",
   "metadata": {},
   "outputs": [],
   "source": [
    "len(df[df[\"Progress\"] > 90])"
   ]
  },
  {
   "cell_type": "code",
   "execution_count": null,
   "id": "f58dd277",
   "metadata": {},
   "outputs": [],
   "source": [
    "len(df[df[\"Finished\"] == \"True\"])"
   ]
  },
  {
   "cell_type": "code",
   "execution_count": null,
   "id": "ebfbacd3",
   "metadata": {},
   "outputs": [],
   "source": [
    "questions[15:]"
   ]
  },
  {
   "cell_type": "code",
   "execution_count": null,
   "id": "8b96caf2",
   "metadata": {},
   "outputs": [],
   "source": [
    "questions.loc[\"Q25_3\"]"
   ]
  },
  {
   "cell_type": "code",
   "execution_count": null,
   "id": "109cb0e8",
   "metadata": {},
   "outputs": [],
   "source": [
    "sns.countplot(data=df, x=\"Q54\")\n",
    "df.groupby(\"Q54\").size()"
   ]
  },
  {
   "cell_type": "code",
   "execution_count": null,
   "id": "bbe78a6b",
   "metadata": {},
   "outputs": [],
   "source": [
    "df.groupby(\"Career Stage\").size()"
   ]
  },
  {
   "cell_type": "code",
   "execution_count": null,
   "id": "491c8328",
   "metadata": {},
   "outputs": [],
   "source": [
    "fig, ax = plt.subplots(1,2, sharey=True)\n",
    "sns.countplot(x=\"value\", data=pd.melt(df[[\"Q4\"]]), order=[\"1-4\", \"5-9\", \"10-14\", \"15-19\", \"20+\"], ax=ax[0], width=1, palette=colors)\n",
    "sns.countplot(x=\"value\", data=pd.melt(df[[\"Q6\"]]), order=[\"1-4\", \"5-9\", \"10-14\", \"15-19\", \"20+\"], ax=ax[1], width=1, palette=colors)\n",
    "ax[0].set_xlabel(\"Available\")\n",
    "ax[0].set_xticklabels(labels=ax[0].get_xticklabels(), rotation=45, ha=\"center\", va=\"center\")\n",
    "ax[1].set_xlabel(\"Used\")\n",
    "ax[1].set_xticklabels(labels=ax[0].get_xticklabels(), rotation=45, ha=\"center\", va=\"center\")\n",
    "ax[0].set_ylabel(\"Number of Respondents\")\n",
    "fig.supxlabel(\"Number of Node Types\", y=-0.25, fontsize=\"small\")\n",
    "plt.savefig(\"figures/node_types.pdf\")\n",
    "plt.savefig(\"figures/node_types_presentation.png\")"
   ]
  },
  {
   "cell_type": "code",
   "execution_count": null,
   "id": "710988cd",
   "metadata": {},
   "outputs": [],
   "source": [
    "order = [\"1-4\", \"5-9\", \"10-14\", \"15-19\", \"20+\"]\n",
    "df[\"UsedDiff\"] = pd.to_numeric(df[\"Q4\"].replace(order, range(5))) - pd.to_numeric(df[\"Q6\"].replace(order, range(5)))\n",
    "# display(df[\"Q4\"])\n",
    "# df[\"Q6\"] = df[\"Q4\"].replace(order, range(5))\n",
    "# df[\"UsedDiff\"] = df[\"Q4\"] - df[\"Q6\"]\n",
    "sns.countplot(x=\"value\", data=pd.melt(df[[\"UsedDiff\"]]), order=[0.0, 1.0, 2.0, 3.0, 4.0])\n",
    "df[\"UsedDiff\"].value_counts(normalize=True)\n",
    "df[\"UsedDiff\"].value_counts()"
   ]
  },
  {
   "cell_type": "code",
   "execution_count": null,
   "id": "a1643643",
   "metadata": {},
   "outputs": [],
   "source": [
    "fig, ax = plt.subplots(2,2, sharex=True, sharey=True)\n",
    "order = [\"0-100\", \"100-500\", \"500-1000\", \"1000-5000\", \"5000-10000\", \"10000+\"]\n",
    "df['Q43'] = pd.Categorical(df['Q43'], order)\n",
    "\n",
    "sns.histplot(df, x=\"Q43\", hue=\"Q14\", multiple=\"stack\", hue_order=[\"Yes\", \"No\"], ax=ax[0][0])\n",
    "sns.histplot(df, x=\"Q43\", hue=\"Q15\", multiple=\"stack\", hue_order=[\"Yes\", \"No\"], ax=ax[0][1])\n",
    "sns.histplot(df, x=\"Q43\", hue=\"Q17\", multiple=\"stack\", hue_order=[\"Yes\", \"No\"], ax=ax[1][0])\n",
    "sns.histplot(df, x=\"Q43\", hue=\"Q19\", multiple=\"stack\", hue_order=[\"Yes\", \"No\"], ax=ax[1][1])\n",
    "\n",
    "sns.move_legend(ax[0][0], \"lower center\", bbox_to_anchor=(1.05, 1.05), ncol=2, title=None, fontsize=7)\n",
    "ax[1][0].set_xticklabels(labels=ax[1][0].get_xticklabels(), rotation=45, ha=\"right\", va=\"center_baseline\")\n",
    "ax[1][1].set_xticklabels(labels=ax[1][1].get_xticklabels(), rotation=45, ha=\"right\", va=\"center_baseline\")\n",
    "ax[0][1].get_legend().remove()\n",
    "ax[1][0].get_legend().remove()\n",
    "ax[1][1].get_legend().remove()\n",
    "ax[0][0].set_ylabel(\"Runtime\")\n",
    "ax[1][0].set_ylabel(\"Energy\")\n",
    "ax[1][0].set_xlabel(\"Aware\")\n",
    "ax[1][1].set_xlabel(\"Reduced\")\n",
    "fig.supxlabel(\"Number of Node Hours\", y=-0.42)\n",
    "fig.supylabel(\"Count\", x=-0.1)"
   ]
  },
  {
   "cell_type": "code",
   "execution_count": null,
   "id": "d9ed2f99",
   "metadata": {},
   "outputs": [],
   "source": [
    "fig, ax = plt.subplots(2,2, sharex=True, sharey=True)\n",
    "# order = [\"0-100\", \"100-500\", \"500-1000\", \"1000-5000\", \"5000-10000\", \"10000+\"]\n",
    "# df['Q43'] = pd.Categorical(df['Q43'], order)\n",
    "\n",
    "sns.histplot(df, x=\"Career Stage\", hue=\"Q14\", multiple=\"stack\", hue_order=[\"Yes\", \"No\"], ax=ax[0][0])\n",
    "sns.histplot(df, x=\"Career Stage\", hue=\"Q15\", multiple=\"stack\", hue_order=[\"Yes\", \"No\"], ax=ax[0][1])\n",
    "sns.histplot(df, x=\"Career Stage\", hue=\"Q17\", multiple=\"stack\", hue_order=[\"Yes\", \"No\"], ax=ax[1][0])\n",
    "sns.histplot(df, x=\"Career Stage\", hue=\"Q19\", multiple=\"stack\", hue_order=[\"Yes\", \"No\"], ax=ax[1][1])\n",
    "\n",
    "sns.move_legend(ax[0][0], \"lower center\", bbox_to_anchor=(1.05, 1.05), ncol=2, title=None, fontsize=7)\n",
    "ax[1][0].set_xticklabels(labels=ax[1][0].get_xticklabels(), rotation=45, ha=\"right\", va=\"center_baseline\")\n",
    "ax[1][1].set_xticklabels(labels=ax[1][1].get_xticklabels(), rotation=45, ha=\"right\", va=\"center_baseline\")\n",
    "ax[0][1].get_legend().remove()\n",
    "ax[1][0].get_legend().remove()\n",
    "ax[1][1].get_legend().remove()\n",
    "ax[0][0].set_ylabel(\"Runtime\")\n",
    "ax[1][0].set_ylabel(\"Energy\")\n",
    "ax[1][0].set_xlabel(\"Aware\")\n",
    "ax[1][1].set_xlabel(\"Reduced\")\n",
    "fig.supxlabel(\"Role\", y=-0.42)\n",
    "fig.supylabel(\"Count\", x=-0.1)"
   ]
  },
  {
   "cell_type": "code",
   "execution_count": null,
   "id": "406c3262",
   "metadata": {},
   "outputs": [],
   "source": [
    "temp_data = [\n",
    "    [\"Aware of Metric\", \"Node Hours\", (df[\"Q14\"] == \"Yes\").sum()/((df[\"Q14\"] == \"Yes\").sum() + (df[\"Q14\"] == \"No\").sum())], \n",
    "    [\"Reduced Metric\", \"Node Hours\", (df[\"Q15\"] == \"Yes\").sum()/((df[\"Q15\"] == \"Yes\").sum() + (df[\"Q15\"] == \"No\").sum())],\n",
    "    [\"Aware of Metric\", \"Energy\", (df[\"Q17\"] == \"Yes\").sum()/((df[\"Q17\"] == \"Yes\").sum() + (df[\"Q17\"] == \"No\").sum())], \n",
    "    [\"Reduced Metric\", \"Energy\", (df[\"Q19\"] == \"Yes\").sum()/((df[\"Q19\"] == \"Yes\").sum() + (df[\"Q19\"] == \"No\").sum())]\n",
    "]\n",
    "\n",
    "temp_df = pd.DataFrame(temp_data, columns=[\"Action\", \"Metric\", \"Proportion\"])\n",
    "fig ,ax = plt.subplots(1,1)\n",
    "sns.barplot(temp_df, x=\"Metric\", y=\"Proportion\", hue=\"Action\", ax=ax, palette=colors)\n",
    "sns.move_legend(ax, \"center left\", bbox_to_anchor=(1, 0.5))\n",
    "ax.set_xlabel(None)\n",
    "ax.get_legend().set_title(None)\n",
    "plt.savefig(\"figures/awareness_comparison.pdf\")\n",
    "plt.savefig(\"figures/awareness_comparison_talk.png\")\n",
    "print(temp_data)"
   ]
  },
  {
   "cell_type": "code",
   "execution_count": null,
   "id": "01cf6a1a",
   "metadata": {},
   "outputs": [],
   "source": [
    "display(df[\"Q14\"].value_counts())\n",
    "display(df[\"Q15\"].value_counts())\n",
    "display(df[\"Q17\"].value_counts())\n",
    "display(df[\"Q19\"].value_counts())"
   ]
  },
  {
   "cell_type": "code",
   "execution_count": null,
   "id": "0fc31f38",
   "metadata": {},
   "outputs": [],
   "source": [
    "display(df[df[\"Q17\"] == \"Yes\"][\"Q19\"].value_counts(normalize=True))\n",
    "display(df[df[\"Q19\"] == \"Yes\"][\"Q17\"].value_counts(normalize=True))"
   ]
  },
  {
   "cell_type": "code",
   "execution_count": null,
   "id": "f067a00c",
   "metadata": {},
   "outputs": [],
   "source": [
    "df1 = df.groupby(\"Q54\")[\"Q14\"].value_counts(normalize=True)\n",
    "# df1 = df1.mul(100)\n",
    "df1 = df1.rename('percent').reset_index()\n",
    "\n",
    "fig, ax = plt.subplots(1,1)\n",
    "sns.barplot(data=df1, x=\"Q54\", y='percent', hue=\"Q14\", order=[\"North America\", \"Europe\"], hue_order=[\"No\", \"Yes\"], ax=ax)\n",
    "ax.set_xlabel(\"Aware of Node Hours\")\n",
    "\n",
    "df1 = df.groupby(\"Q54\")[\"Q17\"].value_counts(normalize=True)\n",
    "# df1 = df1.mul(100)\n",
    "df1 = df1.rename('percent').reset_index()\n",
    "\n",
    "fig, ax = plt.subplots(1,1)\n",
    "sns.barplot(data=df1, x=\"Q54\", y='percent', hue=\"Q17\", order=[\"North America\", \"Europe\"], hue_order=[\"No\", \"Yes\"], ax=ax)\n",
    "ax.set_xlabel(\"Aware of Energy\")"
   ]
  },
  {
   "cell_type": "code",
   "execution_count": null,
   "id": "888879a8",
   "metadata": {},
   "outputs": [],
   "source": [
    "fig, ax = plt.subplots(1,1)\n",
    "sns.countplot(data=df[~df[\"Q16\"].isna()], x=\"Q16\", stat=\"percent\", ax=ax)\n",
    "plt.show()\n",
    "\n",
    "fig, ax = plt.subplots(1,1)\n",
    "data = df[~df[\"Q16\"].isna()][\"Q16\"].value_counts(normalize=True)\n",
    "ax.pie(data, labels=data.index, colors=sns.color_palette()[0:3])"
   ]
  },
  {
   "cell_type": "code",
   "execution_count": null,
   "id": "84c56ffc",
   "metadata": {},
   "outputs": [],
   "source": [
    "display(df[\"Q16\"].value_counts())"
   ]
  },
  {
   "cell_type": "code",
   "execution_count": null,
   "id": "3e8ad279",
   "metadata": {},
   "outputs": [],
   "source": [
    "filtered = df[~df[\"Q16\"].isna()]\n",
    "filtered[filtered[\"Q16\"] == \"Very concerned\"][\"Q15\"].value_counts(normalize=True)"
   ]
  },
  {
   "cell_type": "code",
   "execution_count": null,
   "id": "98a2b5ff",
   "metadata": {},
   "outputs": [],
   "source": [
    "sns.countplot(df[df[\"Q45\"].astype(str).str.contains(\"Energy\")], x=\"Q17\", order=[\"No\", \"Yes\"], stat=\"percent\")"
   ]
  },
  {
   "cell_type": "code",
   "execution_count": null,
   "id": "010d3a3b",
   "metadata": {},
   "outputs": [],
   "source": [
    "sns.countplot(df[df[\"Q45\"].astype(str).str.contains(\"Energy\")], x=\"Q19\", stat=\"percent\")"
   ]
  },
  {
   "cell_type": "code",
   "execution_count": null,
   "id": "b4e69770",
   "metadata": {},
   "outputs": [],
   "source": [
    "df1 = pd.melt(df[[\"Q21_1\", \"Q21_2\", \"Q21_3\", \"Q21_4\", \"Q21_5\", \"Q21_6\"]])\n",
    "fig, ax = plt.subplots(1,1)\n",
    "# sns.countplot(data=df1[df1[\"value\"] == \"Yes\"], x=\"variable\", ax=ax)\n",
    "sns.histplot(data=df1, x=\"variable\", hue=\"value\", multiple=\"stack\", stat=\"count\", ax=ax)\n",
    "ax.set_xticklabels([\"Green500\", \"SPEC SERT\", \"Carbon Intensity\", \"PUE\", \"DVFS\", \"Vendor Fact Sheets\"])\n",
    "display(df1[df1[\"value\"] == \"Yes\"].groupby(\"variable\").size())\n",
    "df1[df1[\"value\"] == \"Yes\"].groupby(\"variable\").size()/ df1.dropna(subset=\"value\").groupby(\"variable\").size()"
   ]
  },
  {
   "cell_type": "code",
   "execution_count": null,
   "id": "b9e145a2",
   "metadata": {},
   "outputs": [],
   "source": [
    "df1 = pd.melt(df[[\"Q20_1\", \"Q20_2\", \"Q20_3\", \"Q20_4\"]])\n",
    "fig, ax = plt.subplots(1,1)\n",
    "sns.histplot(data=df1, x=\"variable\", hue=\"value\", multiple=\"stack\", stat=\"count\", ax=ax, palette=colors, shrink=0.7)\n",
    "# sns.move_legend(ax, \"center left\", bbox_to_anchor=(1, 0))\n",
    "ax.set_xticklabels([\"Green500\", \"SPEC SERT\", \"Carbon\\nIntensity\", \"PUE\"], rotation=20)\n",
    "ax.set_xlabel(None)\n",
    "ax.set_ylabel(\"Num. Responses\")\n",
    "ax.get_legend().set_title(None)\n",
    "plt.savefig(\"figures/use_of_tools.pdf\")\n",
    "plt.savefig(\"figures/use_of_tools_talk.png\")\n",
    "display(df1[df1[\"value\"] == \"Yes\"].groupby(\"variable\").size())\n",
    "df1[df1[\"value\"] == \"Yes\"].groupby(\"variable\").size()/ df1.dropna(subset=\"value\").groupby(\"variable\").size()"
   ]
  },
  {
   "cell_type": "code",
   "execution_count": null,
   "id": "b90ed044",
   "metadata": {},
   "outputs": [],
   "source": [
    "question_map = {\n",
    "    \"Hardware\": \"Q22_3\",\n",
    "    \"Queue\": \"Q22_2\",\n",
    "    \"Performance\": \"Q22_4\",\n",
    "    \"Funding\": \"Q22_1\",\n",
    "    \"Software\": \"Q22_6\",\n",
    "    \"Ease of Use\": \"Q22_7\",\n",
    "    \"Experience\": \"Q22_8\",\n",
    "    \"Energy\": \"Q22_5\"    \n",
    "}\n",
    "df1 = pd.melt(df[list(question_map.values())])\n",
    "df1.loc[df1[\"value\"] == \"1 (Not important)\", \"value\"] = \"1 (Not Important)\"\n",
    "# df1 = df1.groupby(\"variable\")[\"value\"].value_counts(normalize=True).rename(\"proportion\").reset_index()\n",
    "# display(df1)\n",
    "fig, ax = plt.subplots(1,1)\n",
    "sns.histplot(data=df1, x=\"variable\", hue=\"value\", hue_order=[\"1 (Not Important)\", \"2\", \"3 (Very Important)\"], multiple=\"stack\", stat=\"count\", ax=ax, palette=colors, shrink=0.75)\n",
    "# sns.move_legend(ax, \"center left\", bbox_to_anchor=(1, 0))\n",
    "ax.set_xticklabels(list(question_map.keys()), rotation=30, ha='right')\n",
    "ax.set_xlabel(None)\n",
    "ax.set_ylabel(\"Num. Responses\")\n",
    "ax.get_legend().set_title(None)\n",
    "plt.savefig(\"figures/selection_priority.pdf\")\n",
    "plt.savefig(\"figures/selection_priority_talk.png\")\n",
    "\n",
    "df1[df1[\"value\"] == \"3 (Very Important)\"].groupby(\"variable\").size()"
   ]
  },
  {
   "cell_type": "code",
   "execution_count": null,
   "id": "d6ba7c35",
   "metadata": {},
   "outputs": [],
   "source": [
    "df[\"Q22_5\"].value_counts(normalize=True)"
   ]
  },
  {
   "cell_type": "code",
   "execution_count": null,
   "id": "0d63d1d8",
   "metadata": {},
   "outputs": [],
   "source": [
    "df[\"Q22_4\"].value_counts(normalize=True)"
   ]
  },
  {
   "cell_type": "code",
   "execution_count": null,
   "id": "967ccff4",
   "metadata": {},
   "outputs": [],
   "source": [
    "fig, ax = plt.subplots()\n",
    "sns.histplot(df, x=\"Q43\", hue=\"Q22_5\", multiple=\"stack\", ax=ax)\n",
    "ax.set_xticklabels(labels=ax.get_xticklabels(), rotation=45, ha=\"right\", va=\"center_baseline\")\n",
    "ax.set_xlabel(\"Node Hours used Per Year\")\n",
    "ax.set_ylabel(\"Num. Responses\")\n",
    "ax.get_legend().set_title(None)"
   ]
  },
  {
   "cell_type": "code",
   "execution_count": null,
   "id": "34cc150f",
   "metadata": {},
   "outputs": [],
   "source": [
    "fig, ax = plt.subplots()\n",
    "sns.histplot(df, x=\"Career Stage\", hue=\"Q22_5\", multiple=\"stack\", ax=ax)\n",
    "ax.set_xticklabels(labels=ax.get_xticklabels(), rotation=45, ha=\"right\", va=\"center_baseline\")\n",
    "ax.set_xlabel(None)\n",
    "ax.set_ylabel(\"Num. Responses\")\n",
    "ax.get_legend().set_title(None)"
   ]
  },
  {
   "cell_type": "code",
   "execution_count": null,
   "id": "e0324bb5",
   "metadata": {},
   "outputs": [],
   "source": [
    "df[\"Q48_1\"] = df[\"Q48_1\"].astype(float)\n",
    "sns.histplot(data=df, x=\"Q48_1\")\n",
    "plt.title(\"Estimated CPU Utilization\")"
   ]
  },
  {
   "cell_type": "code",
   "execution_count": null,
   "id": "e679a3b9",
   "metadata": {},
   "outputs": [],
   "source": [
    "df[\"Q50_1\"] = df[\"Q50_1\"].astype(float)\n",
    "sns.histplot(data=df, x=\"Q50_1\")\n",
    "plt.title(\"Estimated GPU Utilization\")"
   ]
  },
  {
   "cell_type": "code",
   "execution_count": null,
   "id": "0893e909",
   "metadata": {},
   "outputs": [],
   "source": [
    "sns.displot(data=df, x=\"Q48_1\", y=\"Q50_1\", legend=\"full\")"
   ]
  },
  {
   "cell_type": "code",
   "execution_count": null,
   "id": "a37d41ae",
   "metadata": {},
   "outputs": [],
   "source": [
    "df[\"Q37_4\"] = df[\"Q37_4\"].astype(float)\n",
    "sns.histplot(data=df, x=\"Q37_4\")\n",
    "plt.title(\"Estimated Memory Utilization\")"
   ]
  },
  {
   "cell_type": "code",
   "execution_count": null,
   "id": "cb754bbd",
   "metadata": {},
   "outputs": [],
   "source": [
    "df.groupby(\"Q24\").size()"
   ]
  },
  {
   "cell_type": "code",
   "execution_count": null,
   "id": "1d6da649",
   "metadata": {},
   "outputs": [],
   "source": [
    "df[\"Q24\"].value_counts(normalize=True)"
   ]
  },
  {
   "cell_type": "code",
   "execution_count": null,
   "id": "2e71b03a",
   "metadata": {},
   "outputs": [],
   "source": [
    "df.groupby(\"Q40\").size()"
   ]
  },
  {
   "cell_type": "code",
   "execution_count": null,
   "id": "a25b2e71",
   "metadata": {},
   "outputs": [],
   "source": [
    "df[\"Q40\"].value_counts(normalize=True)"
   ]
  },
  {
   "cell_type": "code",
   "execution_count": null,
   "id": "99e10a89",
   "metadata": {},
   "outputs": [],
   "source": [
    "df.groupby(\"Q25_1\").size()"
   ]
  },
  {
   "cell_type": "code",
   "execution_count": null,
   "id": "c78d6ab4",
   "metadata": {},
   "outputs": [],
   "source": [
    "df.groupby(\"Q25_2\").size()"
   ]
  },
  {
   "cell_type": "code",
   "execution_count": null,
   "id": "26dd1e3a",
   "metadata": {},
   "outputs": [],
   "source": [
    "df.groupby(\"Q25_3\").size()"
   ]
  },
  {
   "cell_type": "code",
   "execution_count": null,
   "id": "a7d49033",
   "metadata": {},
   "outputs": [],
   "source": [
    "df.value_counts(subset=[\"Q40\", \"Q25_3\"], normalize=True)"
   ]
  },
  {
   "cell_type": "code",
   "execution_count": null,
   "id": "295ebe03",
   "metadata": {},
   "outputs": [],
   "source": [
    "df[\"Q25_3\"].value_counts(normalize=True)"
   ]
  },
  {
   "cell_type": "code",
   "execution_count": null,
   "id": "d75f93da",
   "metadata": {},
   "outputs": [],
   "source": [
    "df.groupby(\"Q25_4\").size()"
   ]
  },
  {
   "cell_type": "code",
   "execution_count": null,
   "id": "2dde47c2",
   "metadata": {},
   "outputs": [],
   "source": []
  }
 ],
 "metadata": {
  "kernelspec": {
   "display_name": "Python 3 (ipykernel)",
   "language": "python",
   "name": "python3"
  },
  "language_info": {
   "codemirror_mode": {
    "name": "ipython",
    "version": 3
   },
   "file_extension": ".py",
   "mimetype": "text/x-python",
   "name": "python",
   "nbconvert_exporter": "python",
   "pygments_lexer": "ipython3",
   "version": "3.13.2"
  }
 },
 "nbformat": 4,
 "nbformat_minor": 5
}
